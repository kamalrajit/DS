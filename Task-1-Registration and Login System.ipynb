{
 "cells": [
  {
   "cell_type": "code",
   "execution_count": 1,
   "id": "37b86356",
   "metadata": {},
   "outputs": [],
   "source": [
    "#Registration and Login system using Python, file handling"
   ]
  },
  {
   "cell_type": "code",
   "execution_count": 17,
   "id": "75101963",
   "metadata": {},
   "outputs": [
    {
     "name": "stdout",
     "output_type": "stream",
     "text": [
      "********** Login System **********\n",
      "1.Signup\n",
      "2.Login\n",
      "3.Exit\n",
      "Enter your choice: 1\n",
      "Enter email address: surya@gmail.com\n",
      "Enter password: surya123\n",
      "Confirm password: surya123\n",
      "You have Registered Successfully!\n",
      "********** Login System **********\n",
      "1.Signup\n",
      "2.Login\n",
      "3.Exit\n",
      "Enter your choice: 2\n",
      "Enter email: surya@gmail.com\n",
      "Enter password: surya123\n",
      "Logged in Successfully!\n",
      "********** Login System **********\n",
      "1.Signup\n",
      "2.Login\n",
      "3.Exit\n",
      "Enter your choice: 3\n"
     ]
    }
   ],
   "source": [
    "import hashlib\n",
    "def signup():\n",
    "    email = input(\"Enter email address: \")\n",
    "    pwd = input(\"Enter password: \")\n",
    "    conf_pwd = input(\"Confirm password: \")\n",
    "    if conf_pwd == pwd:\n",
    "        enc = conf_pwd.encode()\n",
    "        hash1 = hashlib.md5(enc).hexdigest()\n",
    "        with open(\"credentials.txt\", \"w\") as f:\n",
    "            f.write(email + \"\\n\")\n",
    "            f.write(hash1)\n",
    "        f.close()\n",
    "        print(\"You have Registered Successfully!\")\n",
    "    else:\n",
    "        print(\"Password is not same as above! \\n\")\n",
    "def login():\n",
    "    email = input(\"Enter email: \")\n",
    "    pwd = input(\"Enter password: \")\n",
    "    auth = pwd.encode()\n",
    "    auth_hash = hashlib.md5(auth).hexdigest()\n",
    "    with open(\"credentials.txt\", \"r\") as f:\n",
    "        stored_email, stored_pwd = f.read().split(\"\\n\")\n",
    "    f.close()\n",
    "    if email == stored_email and auth_hash == stored_pwd:\n",
    "         print(\"Logged in Successfully!\")\n",
    "    else:\n",
    "         print(\"Login failed! \\n\")\n",
    "while 1:\n",
    "    print(\"********** Login System **********\")\n",
    "    print(\"1.Signup\")\n",
    "    print(\"2.Login\")\n",
    "    print(\"3.Exit\")\n",
    "    choice = int(input(\"Enter your choice: \"))\n",
    "    if choice == 1:\n",
    "        signup()\n",
    "    elif choice == 2:\n",
    "        login()\n",
    "    elif choice == 3:\n",
    "        break\n",
    "    else:\n",
    "        print(\"Wrong Choice!\")"
   ]
  }
 ],
 "metadata": {
  "kernelspec": {
   "display_name": "Python 3 (ipykernel)",
   "language": "python",
   "name": "python3"
  },
  "language_info": {
   "codemirror_mode": {
    "name": "ipython",
    "version": 3
   },
   "file_extension": ".py",
   "mimetype": "text/x-python",
   "name": "python",
   "nbconvert_exporter": "python",
   "pygments_lexer": "ipython3",
   "version": "3.10.7"
  }
 },
 "nbformat": 4,
 "nbformat_minor": 5
}
